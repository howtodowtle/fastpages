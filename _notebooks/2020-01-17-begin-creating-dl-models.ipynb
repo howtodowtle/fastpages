{
 "cells": [
  {
   "cell_type": "markdown",
   "metadata": {},
   "source": [
    "# Begin creating Deep Learning models.\n",
    "> Steps to take to begin experimenting with deep learning.\n",
    "\n",
    "- toc: false \n",
    "- badges: true\n",
    "- comments: true\n",
    "- categories: [deep learning, ai]"
   ]
  },
  {
   "cell_type": "markdown",
   "metadata": {},
   "source": [
    "Following the advice of [Julia Evans](https://jvns.ca/blog/2016/05/22/how-do-you-write-blog-posts/), I'm going to write about things that I wish I knew a year ago.\n",
    "Machine Learning research sometimes feels like an activity reserved for the intellectually superior, while us mere mortals enjoy their trimmings when they publish and the open-source community implements it."
   ]
  },
  {
   "cell_type": "markdown",
   "metadata": {},
   "source": [
    "![](https://www.scottcondron.com/images/copied_from_nb/my_icons/oliver.jpeg \"Please, can I have an open-source implementation?\")"
   ]
  },
  {
   "cell_type": "markdown",
   "metadata": {},
   "source": [
    "## You don't need a PhD\n",
    "\n",
    "This myth was completely debunked for me when I took the fast.ai course, [Practical Deep Learning for Coders, v3](https://course.fast.ai/). So my first tip, do it. Also, [this post by Rachel Thomas](https://www.fast.ai/2018/08/27/grad-school/) gives some great advice to those thinking about grad school.\n",
    "\n",
    "If some of the stuff below seems like gibberish, fast.ai is a good place to go.\n",
    "\n",
    "## Tips for people wanting to begin creating / improving deep learning models.\n",
    "\n",
    "Find a dataset that interests you.\n",
    "[Here](https://towardsdatascience.com/top-sources-for-machine-learning-datasets-bb6d0dc3378b)'s a good post about where to find it. \n",
    "Try not to get analysis paralysis, just choose one. You're not married to the dataset you choose, but get to know it.\n",
    "\n",
    "[Here](https://www.kaggle.com/learn/overview) are plenty of resources to learn to visualize and analyze a dataset.\n",
    "\n",
    "## Use Google Colab\n",
    "\n",
    "If you want free access to a GPU, [here you go](http://colab.research.google.com/).\n",
    "[If you want to know why or setting up a GPU is becoming frustrating.](https://towardsdatascience.com/getting-started-with-google-colab-f2fff97f594c)\n",
    "\n",
    "## Get 100% accuracy on one instance/batch of your data\n",
    "\n",
    "Rather than wasting your time loading all of the data each time you want to check for bugs, create a _tiny dataset_ with just one instance of your dataset and overfit it with a very simple model.\n",
    "\n",
    "##  Get 100% accuracy on around 10% of your data\n",
    "\n",
    "Once you can overfit your model on one instance, begin using more of your data and try to overfit it by adding more layers. Don't use any regularization for the moment (e.g., Dropout, L1/ L2 regularization), this is another sanity preserving tip so you know that your model is learning.\n",
    "\n",
    "##  Add all of your training data\n",
    "\n",
    "Once you add all of your data, if training is taking too long, leave it aside as an experiment and continue your work on the 10% of data. If you're overfitting when you add more layers and all of your data, here's five steps to reduce overfitting."
   ]
  },
  {
   "cell_type": "markdown",
   "metadata": {},
   "source": [
    "![](my_icons/avoid_overfitting.jpeg \"Source: fast.ai\")"
   ]
  },
  {
   "cell_type": "markdown",
   "metadata": {},
   "source": [
    "And that's it for today, those tips are some of the valuable gems that I wish I found out sooner.\n",
    "If have any feedback, [here's me on Twitter](https://twitter.com/_ScottCondron).\n",
    "\n",
    "_Thanks for reading_"
   ]
  }
 ],
 "metadata": {
  "kernelspec": {
   "display_name": "Python 3",
   "language": "python",
   "name": "python3"
  },
  "language_info": {
   "codemirror_mode": {
    "name": "ipython",
    "version": 3
   },
   "file_extension": ".py",
   "mimetype": "text/x-python",
   "name": "python",
   "nbconvert_exporter": "python",
   "pygments_lexer": "ipython3",
   "version": "3.7.5"
  }
 },
 "nbformat": 4,
 "nbformat_minor": 2
}

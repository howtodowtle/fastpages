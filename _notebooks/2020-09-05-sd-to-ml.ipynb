{
 "cells": [
  {
   "cell_type": "markdown",
   "metadata": {},
   "source": [
    "# Software Developer to Machine Learning Research Engineer\n",
    "> How I transitioned from Software Development to working with Machine Learning\n",
    "\n",
    "- toc: false \n",
    "- badges: false\n",
    "- comments: true\n",
    "- image: images/copied_from_nb/my_icons/neural-network.webp\n",
    "- categories: [deep learning, ai, software development]"
   ]
  },
  {
   "cell_type": "markdown",
   "metadata": {},
   "source": [
    "![neural-network.webp](https://www.scottcondron.com/images/copied_from_nb/my_icons/neural-network.webp \"Source: pixabay\")"
   ]
  },
  {
   "cell_type": "markdown",
   "metadata": {},
   "source": [
    "## Introduction"
   ]
  },
  {
   "cell_type": "markdown",
   "metadata": {},
   "source": [
    "If you're reading this, you're likely interested to read about my experience transitioning from Software Development to Machine Learning to inform whether it's something you should consider. I'll share why I decided to change paths and the steps I took to do so hopefully you will feel empowered to make the move yourself. \n",
    "\n",
    "TLDR: I did online courses which gave me the confidence to go back to university, after which I landed a ML research engineer job."
   ]
  },
  {
   "cell_type": "markdown",
   "metadata": {},
   "source": [
    "## Finding the confidence"
   ]
  },
  {
   "cell_type": "markdown",
   "metadata": {},
   "source": [
    "I had been meaning to learn more about AI. I'd watch amazing products being released which boasted that they were \"*powered by AI*\", but I knew very little about it... other than that it was going to be cause of our species' downfall, of course. \n",
    "\n",
    "I was a Software Developer for 3 years and now I'm a [Geoffrey Hinton](https://en.wikipedia.org/wiki/Geoffrey_Hinton) clone, with a herd of autonomous bots at my fingertips. In reality, I'm building machine learning based applications for a company called [Speech Graphics](https://www.speech-graphics.com/) in Edinburgh. \n",
    "\n",
    "If you take one thing from this post, it's that **developing the confidence to take steps towards working with and understanding machine learning was the most important part of my experience**. At first I  thought that it was reserved for PhD graduates and a someone like me would need to wait until we can upload knowledge with a human-brain interface before I could understand it. \n",
    "\n",
    "My way of building confidence was through doing online courses. I was very privileged that the company I worked for at the time, an amazing NFC startup called [Flomio](https://flomio.com/), were willing to let me bill hours watching an online course on machine learning. I followed [fast.ai](http://fast.ai)'s \"Practical Deep Learning for Coders\" and then watched CS231n in my spare time. \n",
    "\n",
    "After that, although there was a fairly long road ahead, it was night and day. I had the *confidence* that the jelly in my skull didn't need any additional compute power to grasp it."
   ]
  },
  {
   "cell_type": "markdown",
   "metadata": {},
   "source": [
    "## Things that helped"
   ]
  },
  {
   "cell_type": "markdown",
   "metadata": {},
   "source": [
    "If you already know how to code, you can be up and running training models in a day after watching the first lecture of [fast.ai](http://fast.ai). Fast.ai's \"top down approach\" really helps motivate continued learning by showing you what's possible. Having a software developer background really made things easier, you can gradually dive deeper into the different concepts, as you would with a new library or API. \n",
    "\n",
    "Learning to use a language and a library at the same time can be a pain... first learn the language, then learn the libraries/APIs that are written with it. In my experience, this is true for machine learning too... once I had learned python, picking up `fastai` and `PyTorch` was much easier.\n",
    "\n",
    "Once I had a reasonable grasp of `fastai` and `PyTorch`, I looked around for university courses that might help me transition into a machine learning. Although it would’ve been nice to make the transition completely independently outside of institutions, I felt I would benefit from the structure of it and having the degree would also help my job search. \n",
    "\n",
    "**This is by no means a \"you need a degree\" statement**, the most valuable lessons I've learned has been from self-guided study online. Taking the risk financially was the hardest consideration for me. My only advice for this is to try and save as much as you can, and look for funding / scholarships where available."
   ]
  },
  {
   "cell_type": "markdown",
   "metadata": {},
   "source": [
    "> Note: Tech is a male dominated industry [where women are more than twice as likely to quit as men (41% vs 17%)](https://medium.com/tech-diversity-files/if-you-think-women-in-tech-is-just-a-pipeline-problem-you-haven-t-been-paying-attention-cb7a2073b996) so being a white male, I benefit from [lots](https://medium.com/@racheltho/how-to-make-tech-interviews-a-little-less-awful-c29f35431987) [of](https://medium.com/tech-diversity-files/thought-on-diversity-part-2-why-diversity-is-difficult-3dfd552fa1f7) [other factors](https://medium.com/tech-diversity-files/the-real-reason-women-quit-tech-and-how-to-address-it-6dfb606929fd)."
   ]
  },
  {
   "cell_type": "markdown",
   "metadata": {},
   "source": [
    "## Going back to uni"
   ]
  },
  {
   "cell_type": "markdown",
   "metadata": {},
   "source": [
    "So I in enrolled in Artificial Intelligence with Speech and Multimodal Interaction MSc in Heriot Watt University, Edinburgh, Scotland. The course focused on big data applications, intro to data science, statistics, and one fancy module called Biologically Inspired Computation (see my previous two blog posts about [Genetic Algorithm](https://www.scottcondron.com/jupyter/optimisation/visualisation/2020/07/20/interactive-genetic-algorithm-dashboard-from-scratch-in-python.html) and [Particle Swarm Optimisation](https://www.scottcondron.com/jupyter/optimisation/visualisation/2020/08/02/interactive-particle-swarm-optimisation-from-scratch-in-python.html) for examples of that). \n",
    "\n",
    "You may notice that there wasn't a large amount of Deep Learning there. Although the fundamentals of neural networks were thought and we had to build a neural net from scratch, the online courses I did were a lot more practically useful than what I learned in university, especially fast.ai. \n",
    "\n",
    "Having had experience programming professionally and having learned many fundamentals from the different online courses, my university experience went a lot smoother than my undergraduate degree. There was lots of late nights and pretty much every weekend was spent doing assignments during the day, but honestly, I enjoyed the sense of purpose that pursuing the degree gave me. "
   ]
  },
  {
   "cell_type": "markdown",
   "metadata": {},
   "source": [
    "> Note: If you do decide to go the university route, use [ANKI](https://apps.ankiweb.net/) (spaced repetition) to study for exams. It is the closest I've been to being able to get to upload facts into my jelly brain."
   ]
  },
  {
   "cell_type": "markdown",
   "metadata": {},
   "source": [
    "## The Job Search"
   ]
  },
  {
   "cell_type": "markdown",
   "metadata": {},
   "source": [
    "I added alerts for \"Machine Learning\" in Edinburgh on the LinkedIn job search feature and spammed my CV wherever matched. If you want to see the CV I send, [DM me](https://twitter.com/_ScottCondron) and I'll be happy to share. I focused my search on smaller tech companies but I would take any interview offers I received. \n",
    "\n",
    "Most of the job applications were similar to the Software Developer interview process I had been through before. The main difference was questions would focus on machine learning concepts and the take home would be some data related task, e.g. building a classifier with the given data.\n",
    "\n",
    "For these take-home tests, I used `fastai`. This was great for getting quick results but be sure you understand what's going on behind the scenes because every interview asked about them.\n",
    "\n",
    "I did 4 interviews with companies in Edinburgh and was offered 4 jobs. I really couldn't have even imagined that result. There is such demand for data-science / machine learning skills that I had much better job application / interview results that I had prior to all this. This was in the relatively small city of Edinburgh so I imagine opportunities are even greater in bigger cities.  \n",
    "\n",
    "This may sound like it was all roses but financial decisions aside, university was tough and it's a bit of a grind staying with online course."
   ]
  },
  {
   "cell_type": "markdown",
   "metadata": {},
   "source": [
    "## Conclusion"
   ]
  },
  {
   "cell_type": "markdown",
   "metadata": {},
   "source": [
    "In conclusion, I did a few online courses which gave me the confidence to go back to university, upon completion I interviewed for a few companies and settled on the one in which I thought I could learn the most. The whole process was one and a half years from start to finish. I made the decision to join Speech Graphics because machine learning is core to their product and they have a dedicated ML team so I knew I would be in a good position to learn a lot.\n",
    "\n",
    "To make this whole thing possible, there were many helpful people around me at all points throughout my transition. Between my girlfriend Kerri, my parents to my friends in uni and my dissertaion supervisor, I know its a cliche but I really wouldn't have been able to do it without each of them being so kind and helpful. \n",
    "\n",
    "I personally love reading about these kind of stories and finding out about peoples experiences doing something I am considering. Did you get any value from reading this article? If so (or if not), feel free to [share it](https://ctt.ac/4q7IH), and you’re also more than welcome to contact me (via [Twitter](https://twitter.com/_ScottCondron)) if you have any questions, comments, or feedback.\n",
    "\n",
    "I hope my story has given you an insight into my perspective about switching paths.\n",
    "\n",
    "**Thanks for reading!** :rocket:"
   ]
  },
  {
   "cell_type": "markdown",
   "metadata": {},
   "source": [
    "<a href=\"https://twitter.com/_ScottCondron?ref_src=twsrc%5Etfw\" class=\"twitter-follow-button\" data-show-count=\"false\">Follow @_ScottCondron</a><script async src=\"https://platform.twitter.com/widgets.js\" charset=\"utf-8\"></script>"
   ]
  }
 ],
 "metadata": {
  "kernelspec": {
   "display_name": "Python 3",
   "language": "python",
   "name": "python3"
  },
  "language_info": {
   "codemirror_mode": {
    "name": "ipython",
    "version": 3
   },
   "file_extension": ".py",
   "mimetype": "text/x-python",
   "name": "python",
   "nbconvert_exporter": "python",
   "pygments_lexer": "ipython3",
   "version": "3.7.5"
  }
 },
 "nbformat": 4,
 "nbformat_minor": 2
}
